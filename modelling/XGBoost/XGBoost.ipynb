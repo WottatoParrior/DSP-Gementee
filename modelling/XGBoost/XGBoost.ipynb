{
 "cells": [
  {
   "cell_type": "code",
   "execution_count": null,
   "id": "ef71f613",
   "metadata": {},
   "outputs": [],
   "source": [
    "import sklearn\n",
    "from numpy import loadtxt\n",
    "from sklearn.model_selection import train_test_split\n",
    "from sklearn.metrics import accuracy_score\n",
    "import datetime\n",
    "from datetime import datetime, date, timedelta\n",
    "import xgboost\n",
    "import pandas as pd \n",
    "from xgboost import XGBClassifier, XGBRegressor\n",
    "from sklearn.multioutput import MultiOutputRegressor\n",
    "import sklearn.metrics as metrics\n",
    "import numpy as np\n",
    "#import catboost as cb\n",
    "from sklearn.ensemble import AdaBoostRegressor\n",
    "import lightgbm as lgb\n",
    "from sklearn.model_selection import GridSearchCV\n",
    "from sklearn.ensemble import GradientBoostingRegressor"
   ]
  },
  {
   "cell_type": "code",
   "execution_count": 5,
   "id": "cb332f34",
   "metadata": {},
   "outputs": [],
   "source": [
    "data = pd.read_csv(\"M_GVB_weather_events_all_covidindex_holidays_binary2020.csv\")\n",
    "data[\"Date_time\"] = pd.to_datetime(data[\"Date_time\"])\n",
    "data['IS_METRO_OPEN'] = np.where((data['Hour'].isin([0,1,2,3,4,5])), 0, 1)\n",
    "\n"
   ]
  },
  {
   "cell_type": "code",
   "execution_count": null,
   "id": "ac747b05",
   "metadata": {},
   "outputs": [],
   "source": [
    "def addlogs(res, cols):\n",
    "    \"\"\" Log transform feature list\"\"\"\n",
    "    m = res.shape[1]\n",
    "    for c in cols:\n",
    "        res = res.assign(newcol=pd.Series(np.log(1.01+res[c])).values)   \n",
    "        res.columns.values[m] = c + '_log'\n",
    "        m += 1\n",
    "    return res\n",
    "\n",
    "loglist = [\"Checked_out_passengers_week_ago\",\"Checked_in_passengers_week_ago\", \"BezoekersVerwacht\", \"Expected visitors to arrive\", \"Expected visitors to leave\"]\n",
    "\n",
    "data = addlogs(data, loglist)"
   ]
  },
  {
   "cell_type": "code",
   "execution_count": null,
   "id": "8df4ec0f",
   "metadata": {},
   "outputs": [],
   "source": [
    "data.columns\n",
    "data = data.dropna()"
   ]
  },
  {
   "cell_type": "code",
   "execution_count": null,
   "id": "1536be55",
   "metadata": {},
   "outputs": [],
   "source": [
    "features = [\"Checked_out_passengers_week_ago\", \"Checked_in_passengers_week_ago\", 'BezoekersVerwacht','StringencyIndex',\n",
    " 'Event starting',\n",
    " 'Event ending',\n",
    " 'Temp(F)',\n",
    " 'Wind(MpH)',\n",
    " 'RainFall(in)',\n",
    " 'duration_rain_knmi',\n",
    " 'avg_wind_speed_knmi',\n",
    " 'avg_temp_knmi',\n",
    " 'sum_rain_knmi',\n",
    " 'global_radiation',\n",
    " 'C3_Cancel public events_0.0',\n",
    " 'C3_Cancel public events_1.0',\n",
    " 'C3_Cancel public events_2.0',\n",
    " 'weekday_0.0',\n",
    " 'weekday_1.0',\n",
    " 'weekday_2.0',\n",
    " 'weekday_3.0',\n",
    " 'weekday_4.0',\n",
    " 'weekday_5.0',\n",
    " 'weekday_6.0','Month', 'Hour',\n",
    " 'HOLIDAY_BINARY', 'VACATION_BINARY',  'Expected visitors to arrive',\n",
    " 'Expected visitors to leave','IS_METRO_OPEN','Checked_in_passengers_BASELINE', 'Checked_out_passengers_BASELINE']\n"
   ]
  },
  {
   "cell_type": "code",
   "execution_count": null,
   "id": "0e1acc63",
   "metadata": {},
   "outputs": [],
   "source": [
    "def get_train_val_test_split(df):\n",
    "    \"\"\"\n",
    "    Create train, validation, and test split for 1-week ahead models. This means that the last week of the data will be used\n",
    "    as a test set, the second-last will be the validation set, and the rest will be the training set.\n",
    "    \"\"\"\n",
    "      \n",
    "    set_testing_date = datetime(2021,11,21,23)\n",
    "\n",
    "    #set_testing_date = df['datetime'].max()\n",
    "    \n",
    "    last_week = pd.date_range(set_testing_date  - timedelta(hours=167), set_testing_date, freq = 'H')\n",
    "    two_weeks_before = pd.date_range(set_testing_date  - timedelta(hours=335), set_testing_date - timedelta(hours=168),freq = 'H')\n",
    "    df['Date_time'] = pd.to_datetime(df['Date_time'])\n",
    "    train1 = df[df['Date_time']<two_weeks_before.min()]\n",
    "    train2 = df[df['Date_time']<=two_weeks_before.max()]\n",
    "    validation = df[(df['Date_time']>=two_weeks_before.min()) & (df['Date_time']<=two_weeks_before.max())]\n",
    "    test = df[(df['Date_time']>=last_week.min()) & (df['Date_time']<=last_week.max())]\n",
    "    \n",
    "    return [train1, train2, validation, test]\n",
    "\n",
    "\n",
    "def split_to_X_Y(dataset):\n",
    "    df = dataset[dataset[\"Station\"] == \"Station Zuid\"]\n",
    "    df_y = df[[\"Checked_in_passengers\", \"Checked_out_passengers\"]]\n",
    "    df_X = df[df.columns.intersection(features)]\n",
    "\n",
    "    return [df_y, df_X]"
   ]
  },
  {
   "cell_type": "code",
   "execution_count": null,
   "id": "e49781b4",
   "metadata": {},
   "outputs": [],
   "source": [
    "train1,train2, validation, test = get_train_val_test_split(data)\n",
    "train_y, train_X = split_to_X_Y(train1)\n",
    "validation_y, validation_X = split_to_X_Y(validation)\n",
    "test_y, test_X = split_to_X_Y(test)\n",
    "\n",
    "\n",
    "print(\"training1:\", list(train1[\"Date_time\"])[0],list(train1[\"Date_time\"])[-1])\n",
    "print(\"training2:\", list(train2[\"Date_time\"])[0],list(train2[\"Date_time\"])[-1])\n",
    "print(\"validating:\",list(validation[\"Date_time\"])[0],list(validation[\"Date_time\"])[-1])\n",
    "print(\"testing:\",list(test[\"Date_time\"])[0],list(test[\"Date_time\"])[-1])\n",
    "\n",
    "print(len(train1)/15)\n",
    "print(len(validation)/15)\n",
    "print(len(test)/15)"
   ]
  },
  {
   "cell_type": "code",
   "execution_count": null,
   "id": "e7ca2f63",
   "metadata": {},
   "outputs": [],
   "source": [
    "def combine_predictions(y_pred_check_ins,y_pred_check_outs):\n",
    "    pred_y = []\n",
    "      for i in range(len(y_pred_check_ins)):\n",
    "        pred_y.append([y_pred_check_ins[i],y_pred_check_outs[i]])\n",
    "\n",
    "    return pred_y "
   ]
  },
  {
   "cell_type": "code",
   "execution_count": null,
   "id": "af619380",
   "metadata": {},
   "outputs": [],
   "source": [
    "model1 = MultiOutputRegressor(XGBRegressor(objective='reg:linear',n_estimators=100,learning_rate=0.2)).fit(train_X, train_y)\n",
    "pred_y = model1.predict(test_X) \n",
    "\n",
    "mae = metrics.mean_absolute_error(test_y, pred_y)\n",
    "mse = metrics.mean_squared_error(test_y, pred_y)\n",
    "rmse = np.sqrt(mse) # or mse**(0.5)  \n",
    "r2 = metrics.r2_score(test_y, pred_y)\n",
    "\n",
    "print(\"Results of sklearn.metrics:\")\n",
    "print(\"MAE:\",mae)\n",
    "print(\"RMSE:\", rmse)\n",
    "print(\"R-Squared:\", r2)\n"
   ]
  }
 ],
 "metadata": {
  "kernelspec": {
   "display_name": "tf2",
   "language": "python",
   "name": "tf2"
  },
  "language_info": {
   "codemirror_mode": {
    "name": "ipython",
    "version": 3
   },
   "file_extension": ".py",
   "mimetype": "text/x-python",
   "name": "python",
   "nbconvert_exporter": "python",
   "pygments_lexer": "ipython3",
   "version": "3.7.11"
  }
 },
 "nbformat": 4,
 "nbformat_minor": 5
}
