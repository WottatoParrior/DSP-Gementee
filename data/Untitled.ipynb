{
 "cells": [
  {
   "cell_type": "code",
   "execution_count": 1,
   "id": "194ad194",
   "metadata": {},
   "outputs": [],
   "source": [
    "import pandas as pd\n",
    "import numpy as np\n",
    "\n"
   ]
  },
  {
   "cell_type": "code",
   "execution_count": 2,
   "id": "e229bf45",
   "metadata": {},
   "outputs": [],
   "source": [
    "df = pd.read_csv(\"venues.csv\")"
   ]
  },
  {
   "cell_type": "code",
   "execution_count": 6,
   "id": "5586bb29",
   "metadata": {},
   "outputs": [
    {
     "data": {
      "text/html": [
       "<div>\n",
       "<style scoped>\n",
       "    .dataframe tbody tr th:only-of-type {\n",
       "        vertical-align: middle;\n",
       "    }\n",
       "\n",
       "    .dataframe tbody tr th {\n",
       "        vertical-align: top;\n",
       "    }\n",
       "\n",
       "    .dataframe thead th {\n",
       "        text-align: right;\n",
       "    }\n",
       "</style>\n",
       "<table border=\"1\" class=\"dataframe\">\n",
       "  <thead>\n",
       "    <tr style=\"text-align: right;\">\n",
       "      <th></th>\n",
       "      <th>Unnamed: 0</th>\n",
       "      <th>Time_to_filter</th>\n",
       "      <th>At_ArenA_end_of_hour</th>\n",
       "      <th>At_AFAS_end_of_hour</th>\n",
       "      <th>At_Ziggo_end_of_hour</th>\n",
       "      <th>At_De_Toekmost_end_of_hour</th>\n",
       "      <th>At_ArenA_beginning_of_hour</th>\n",
       "      <th>At_AFAS_beginning_of_hour</th>\n",
       "      <th>At_Ziggo_beginning_of_hour</th>\n",
       "      <th>At_De_Toekmost_beginning_of_hour</th>\n",
       "    </tr>\n",
       "  </thead>\n",
       "  <tbody>\n",
       "    <tr>\n",
       "      <th>3</th>\n",
       "      <td>3</td>\n",
       "      <td>2019-12-30 04:00:00</td>\n",
       "      <td>0.0</td>\n",
       "      <td>0.0</td>\n",
       "      <td>0.0</td>\n",
       "      <td>0.0</td>\n",
       "      <td>0.0</td>\n",
       "      <td>0.0</td>\n",
       "      <td>0.0</td>\n",
       "      <td>0.0</td>\n",
       "    </tr>\n",
       "  </tbody>\n",
       "</table>\n",
       "</div>"
      ],
      "text/plain": [
       "   Unnamed: 0       Time_to_filter  At_ArenA_end_of_hour  At_AFAS_end_of_hour  \\\n",
       "3           3  2019-12-30 04:00:00                   0.0                  0.0   \n",
       "\n",
       "   At_Ziggo_end_of_hour  At_De_Toekmost_end_of_hour  \\\n",
       "3                   0.0                         0.0   \n",
       "\n",
       "   At_ArenA_beginning_of_hour  At_AFAS_beginning_of_hour  \\\n",
       "3                         0.0                        0.0   \n",
       "\n",
       "   At_Ziggo_beginning_of_hour  At_De_Toekmost_beginning_of_hour  \n",
       "3                         0.0                               0.0  "
      ]
     },
     "execution_count": 6,
     "metadata": {},
     "output_type": "execute_result"
    }
   ],
   "source": [
    "df[df[\"Time_to_filter\"] == \"2019-12-30 04:00:00\"]"
   ]
  },
  {
   "cell_type": "code",
   "execution_count": 8,
   "id": "75ceaa7f",
   "metadata": {},
   "outputs": [
    {
     "name": "stdout",
     "output_type": "stream",
     "text": [
      "010\n"
     ]
    }
   ],
   "source": [
    "print(\"0\" + str(10))"
   ]
  }
 ],
 "metadata": {
  "kernelspec": {
   "display_name": "Python 3",
   "language": "python",
   "name": "python3"
  },
  "language_info": {
   "codemirror_mode": {
    "name": "ipython",
    "version": 3
   },
   "file_extension": ".py",
   "mimetype": "text/x-python",
   "name": "python",
   "nbconvert_exporter": "python",
   "pygments_lexer": "ipython3",
   "version": "3.8.8"
  }
 },
 "nbformat": 4,
 "nbformat_minor": 5
}
